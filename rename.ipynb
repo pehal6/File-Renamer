{
  "nbformat": 4,
  "nbformat_minor": 0,
  "metadata": {
    "colab": {
      "provenance": []
    },
    "kernelspec": {
      "name": "python3",
      "display_name": "Python 3"
    },
    "language_info": {
      "name": "python"
    }
  },
  "cells": [
    {
      "cell_type": "code",
      "source": [
        "import os\n",
        "\n",
        "def rename_pdf(old_path, new_name):\n",
        "    if old_path.endswith(\".pdf\"):\n",
        "        folder = os.path.dirname(old_path)\n",
        "        new_path = os.path.join(folder, new_name + \".pdf\")\n",
        "        os.rename(old_path, new_path)\n",
        "        print(f\" Renamed PDF: {old_path} → {new_path}\")\n",
        "    else:\n",
        "        print(\" The file is not a PDF.\")\n",
        "\n",
        "rename_pdf(\"folder_path.pdf\", \"path\")\n"
      ],
      "metadata": {
        "colab": {
          "base_uri": "https://localhost:8080/"
        },
        "id": "YRGNQtOhorJK",
        "outputId": "aec4bd56-9a39-4de0-9a3c-c8062d247a9a"
      },
      "execution_count": 35,
      "outputs": [
        {
          "output_type": "stream",
          "name": "stdout",
          "text": [
            "✅ Renamed PDF: folder_path.pdf → path.pdf\n"
          ]
        }
      ]
    }
  ]
}